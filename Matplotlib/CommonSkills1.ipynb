{
 "cells": [
  {
   "cell_type": "code",
   "execution_count": 1,
   "metadata": {},
   "outputs": [
    {
     "data": {
      "text/plain": [
       "'CBA'"
      ]
     },
     "execution_count": 1,
     "metadata": {},
     "output_type": "execute_result"
    }
   ],
   "source": [
    "# 1-字符串反转\n",
    "\n",
    "my_string = \"ABC\"\n",
    "reversed_string = my_string[::-1]\n",
    "reversed_string"
   ]
  },
  {
   "cell_type": "code",
   "execution_count": 2,
   "metadata": {
    "pycharm": {
     "name": "#%%\n"
    }
   },
   "outputs": [
    {
     "data": {
      "text/plain": [
       "'My Name Is Zhang San'"
      ]
     },
     "execution_count": 2,
     "metadata": {},
     "output_type": "execute_result"
    }
   ],
   "source": [
    "# 2-每个单词的第一个字母大写：使用title函数方法\n",
    "\n",
    "my_string = \"my name is zhang san\"\n",
    "new_string = my_string.title()\n",
    "new_string"
   ]
  },
  {
   "cell_type": "code",
   "execution_count": 3,
   "metadata": {
    "pycharm": {
     "name": "#%%\n"
    }
   },
   "outputs": [
    {
     "data": {
      "text/plain": [
       "'davce'"
      ]
     },
     "execution_count": 3,
     "metadata": {},
     "output_type": "execute_result"
    }
   ],
   "source": [
    "# 3-字符串查找唯一元素：使用集合的概念查找字符串的唯一元素:\n",
    "\n",
    "my_string = \"aavvccccddddeee\"\n",
    "# 转换成集合\n",
    "temp_set = set(my_string)\n",
    "# 使用join将集合缝合成字符串\n",
    "new_string = ''.join(temp_set)\n",
    "new_string"
   ]
  },
  {
   "cell_type": "code",
   "execution_count": 4,
   "metadata": {
    "pycharm": {
     "name": "#%%\n"
    }
   },
   "outputs": [
    {
     "data": {
      "text/plain": [
       "[2, 4, 6, 8]"
      ]
     },
     "execution_count": 4,
     "metadata": {},
     "output_type": "execute_result"
    }
   ],
   "source": [
    "# 4-列表生成\n",
    "\n",
    "original_list = [1, 2, 3, 4]\n",
    "new_list = [2 * x for x in original_list]\n",
    "new_list"
   ]
  },
  {
   "cell_type": "code",
   "execution_count": 5,
   "metadata": {
    "pycharm": {
     "name": "#%%\n"
    }
   },
   "outputs": [
    {
     "data": {
      "text/plain": [
       "(2, 1)"
      ]
     },
     "execution_count": 5,
     "metadata": {},
     "output_type": "execute_result"
    }
   ],
   "source": [
    "# 5-变量交换\n",
    "\n",
    "a, b = 1, 2\n",
    "a, b = b, a\n",
    "a, b"
   ]
  },
  {
   "cell_type": "code",
   "execution_count": 6,
   "metadata": {
    "pycharm": {
     "name": "#%%\n"
    }
   },
   "outputs": [
    {
     "name": "stdout",
     "output_type": "stream",
     "text": [
      "['My', 'name', 'is', 'Zhang', 'San']\n",
      "['sample', ' string 2']\n"
     ]
    }
   ],
   "source": [
    "# 6-字符串拆分为子字符串列表：使用.split()函数：\n",
    "\n",
    "string_1 = \"My name is Zhang San\"\n",
    "string_2 = \"sample/ string 2\"\n",
    "# 默认空格\n",
    "print(string_1.split())\n",
    "# 使用“/”分割\n",
    "print(string_2.split('/'))"
   ]
  },
  {
   "cell_type": "code",
   "execution_count": 7,
   "metadata": {
    "pycharm": {
     "name": "#%%\n"
    }
   },
   "outputs": [
    {
     "data": {
      "text/plain": [
       "'My,name,is,Zhang,San'"
      ]
     },
     "execution_count": 7,
     "metadata": {},
     "output_type": "execute_result"
    }
   ],
   "source": [
    "# 7-多个字符串组合为一个字符串\n",
    "list_of_strings = ['My', 'name', 'is', 'Zhang', 'San']\n",
    "# 使用逗号“,”拼接\n",
    "new_string = ','.join(list_of_strings)\n",
    "new_string"
   ]
  },
  {
   "cell_type": "code",
   "execution_count": 8,
   "metadata": {
    "pycharm": {
     "name": "#%%\n"
    }
   },
   "outputs": [
    {
     "name": "stdout",
     "output_type": "stream",
     "text": [
      "回文\n"
     ]
    }
   ],
   "source": [
    "# 8-检测回文\n",
    "my_string = \"abcba\"\n",
    "if my_string == my_string[::-1]:\n",
    "    print(\"回文\")\n",
    "else:\n",
    "    print(\"不回文\")"
   ]
  },
  {
   "cell_type": "code",
   "execution_count": 9,
   "metadata": {
    "pycharm": {
     "name": "#%%\n"
    }
   },
   "outputs": [
    {
     "name": "stdout",
     "output_type": "stream",
     "text": [
      "Counter({'b': 3, 'd': 3, 'a': 2, 'c': 1})\n",
      "3\n",
      "[('b', 3)]\n"
     ]
    }
   ],
   "source": [
    "# 9-统计列表中元素的次数\n",
    "from collections import Counter\n",
    "\n",
    "my_list = ['a', 'a', 'b', 'b', 'b', 'c', 'd', 'd', 'd']\n",
    "# 定义计数器对象\n",
    "count = Counter(my_list)\n",
    "# 每个元素\n",
    "print(count)\n",
    "# 指定元素\n",
    "print(count['b'])\n",
    "# 最频繁的元素，多个相同时，只输出第一个\n",
    "print(count.most_common(1))"
   ]
  },
  {
   "cell_type": "code",
   "execution_count": 10,
   "metadata": {
    "pycharm": {
     "name": "#%%\n"
    }
   },
   "outputs": [
    {
     "name": "stdout",
     "output_type": "stream",
     "text": [
      "0: a\n",
      "1: b\n",
      "2: c\n",
      "3: d\n",
      "4: e\n"
     ]
    }
   ],
   "source": [
    "# 10-使用枚举函数得到key/value对\n",
    "my_list = ['a', 'b', 'c', 'd', 'e']\n",
    "for index, value in enumerate(my_list):\n",
    "    print('{0}: {1}'.format(index, value))"
   ]
  },
  {
   "cell_type": "code",
   "execution_count": 11,
   "metadata": {
    "pycharm": {
     "name": "#%%\n"
    }
   },
   "outputs": [
    {
     "data": {
      "text/plain": [
       "30872.344970703125"
      ]
     },
     "execution_count": 11,
     "metadata": {},
     "output_type": "execute_result"
    }
   ],
   "source": [
    "# 11-计算执行一段代码所花费的时间：使用time类计算运行一段代码所花费的时间\n",
    "import time\n",
    "\n",
    "start_time = time.time()\n",
    "# 检查代码如下\n",
    "for i in range(10 ** 5):\n",
    "    a, b = 1, 2\n",
    "    c = a + b\n",
    "# 检查结束\n",
    "end_time = time.time()\n",
    "time_taken_in_micro = (end_time - start_time) * (10 ** 6)\n",
    "time_taken_in_micro"
   ]
  },
  {
   "cell_type": "code",
   "execution_count": 12,
   "metadata": {
    "pycharm": {
     "name": "#%%\n"
    }
   },
   "outputs": [
    {
     "ename": "ModuleNotFoundError",
     "evalue": "No module named 'iteration_utilities'",
     "output_type": "error",
     "traceback": [
      "\u001b[1;31m---------------------------------------------------------------------------\u001b[0m",
      "\u001b[1;31mModuleNotFoundError\u001b[0m                       Traceback (most recent call last)",
      "\u001b[1;32m~\\AppData\\Local\\Temp/ipykernel_19160/64001234.py\u001b[0m in \u001b[0;36m<module>\u001b[1;34m\u001b[0m\n\u001b[0;32m      1\u001b[0m \u001b[1;31m# 12-列表展开\u001b[0m\u001b[1;33m\u001b[0m\u001b[1;33m\u001b[0m\u001b[0m\n\u001b[1;32m----> 2\u001b[1;33m \u001b[1;32mfrom\u001b[0m \u001b[0miteration_utilities\u001b[0m \u001b[1;32mimport\u001b[0m \u001b[0mdeepflatten\u001b[0m\u001b[1;33m\u001b[0m\u001b[1;33m\u001b[0m\u001b[0m\n\u001b[0m\u001b[0;32m      3\u001b[0m \u001b[1;33m\u001b[0m\u001b[0m\n\u001b[0;32m      4\u001b[0m \u001b[1;33m\u001b[0m\u001b[0m\n\u001b[0;32m      5\u001b[0m \u001b[1;31m# 如果只有一个深度嵌套列表，请使用此\u001b[0m\u001b[1;33m\u001b[0m\u001b[1;33m\u001b[0m\u001b[0m\n",
      "\u001b[1;31mModuleNotFoundError\u001b[0m: No module named 'iteration_utilities'"
     ]
    }
   ],
   "source": [
    "# 12-列表展开\n",
    "from iteration_utilities import deepflatten\n",
    "\n",
    "\n",
    "# 如果只有一个深度嵌套列表，请使用此\n",
    "def flatten(l):\n",
    "    return [item for sublist in l for item in sublist]\n",
    "\n",
    "\n",
    "l = [[1, 2, 3], [3]]\n",
    "print(flatten(l))\n",
    "\n",
    "# 如果您不知道列表嵌套的深度\n",
    "l = [[1, 2, 3], [4, [5], [6, 7]], [8, [9, [10]]]]\n",
    "print(list(deepflatten(l, depth=3)))"
   ]
  },
  {
   "cell_type": "code",
   "execution_count": 13,
   "metadata": {
    "pycharm": {
     "name": "#%%\n"
    }
   },
   "outputs": [
    {
     "data": {
      "text/plain": [
       "['a', 'e']"
      ]
     },
     "execution_count": 13,
     "metadata": {},
     "output_type": "execute_result"
    }
   ],
   "source": [
    "# 13-列表采样\n",
    "import random\n",
    "\n",
    "my_list = ['a', 'b', 'c', 'd', 'e']\n",
    "num_samples = 2\n",
    "\n",
    "samples = random.sample(my_list, num_samples)\n",
    "samples"
   ]
  },
  {
   "cell_type": "code",
   "execution_count": 14,
   "metadata": {
    "pycharm": {
     "name": "#%%\n"
    }
   },
   "outputs": [
    {
     "name": "stdout",
     "output_type": "stream",
     "text": [
      "唯一\n",
      "不唯一\n"
     ]
    }
   ],
   "source": [
    "# 14-检查列表元素的唯一性\n",
    "def unique(l):\n",
    "    if len(l) == len(set(l)):\n",
    "        print(\"唯一\")\n",
    "    else:\n",
    "        print(\"不唯一\")\n",
    "\n",
    "\n",
    "unique([1, 2, 3, 4])\n",
    "\n",
    "unique([1, 1, 2, 3])"
   ]
  }
 ],
 "metadata": {
  "kernelspec": {
   "display_name": "Python 3 (ipykernel)",
   "language": "python",
   "name": "python3"
  },
  "language_info": {
   "codemirror_mode": {
    "name": "ipython",
    "version": 3
   },
   "file_extension": ".py",
   "mimetype": "text/x-python",
   "name": "python",
   "nbconvert_exporter": "python",
   "pygments_lexer": "ipython3",
   "version": "3.9.7"
  }
 },
 "nbformat": 4,
 "nbformat_minor": 1
}
